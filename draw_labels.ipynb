{
 "cells": [
  {
   "cell_type": "code",
   "execution_count": 13,
   "metadata": {},
   "outputs": [],
   "source": [
    "import cv2\n",
    "import os\n",
    "import xml.etree.ElementTree as ET"
   ]
  },
  {
   "cell_type": "code",
   "execution_count": 14,
   "metadata": {},
   "outputs": [],
   "source": [
    "LABELS = ['AUDIO', 'AUDIO_INPUT', 'AUDIO_OUTPUT', 'DISPLAYPORT', 'DVI', 'ETHERNET', 'HDMI', 'PARALLEL', 'POWER', 'PS', 'PS2', 'USB', 'USBC', 'VGA']"
   ]
  },
  {
   "cell_type": "code",
   "execution_count": 15,
   "metadata": {},
   "outputs": [],
   "source": [
    "# Function to parse bounding boxes from XML file\n",
    "def parse_xml(xml_path):\n",
    "    tree = ET.parse(xml_path)\n",
    "    root = tree.getroot()\n",
    "    boxes = []\n",
    "    for member in root.findall('object'):\n",
    "        label = member[0].text\n",
    "        bndbox = member[4]\n",
    "        xmin = int(bndbox[0].text)\n",
    "        ymin = int(bndbox[1].text)\n",
    "        xmax = int(bndbox[2].text)\n",
    "        ymax = int(bndbox[3].text)\n",
    "        boxes.append({'label': label, 'xmin': xmin, 'ymin': ymin, 'xmax': xmax, 'ymax': ymax})\n",
    "    return boxes\n",
    "\n",
    "# Function to draw bounding boxes and labels on image\n",
    "def draw_boxes_and_labels(img_name, input_path, output_path):\n",
    "    # Load the image\n",
    "    img = cv2.imread(os.path.join(input_path, img_name))\n",
    "\n",
    "    boxes = parse_xml(os.path.join(input_path, img_name.split('.')[0] + '.xml'))\n",
    "    \n",
    "    # Iterate over each bounding box and label\n",
    "    for box in boxes:\n",
    "        x1, y1, x2, y2 = box['xmin'], box['ymin'], box['xmax'], box['ymax']\n",
    "        \n",
    "        # Draw the bounding box\n",
    "        cv2.rectangle(img, (x1, y1), (x2, y2), (0, 255, 0), 2)  # Green color for bounding box\n",
    "\n",
    "        # Draw the label text\n",
    "        label_name = box['label']\n",
    "        cv2.putText(img, label_name, (x1, y1-10), cv2.FONT_HERSHEY_SIMPLEX, 0.5, (255, 0, 0), 2)  # Blue color for text\n",
    "    \n",
    "    # Save the processed image\n",
    "    cv2.imwrite(os.path.join(output_path, img_name), img)\n",
    "\n",
    "# Define your input and output directories\n",
    "input_image_dir = './content/image' \n",
    "output_dir = './content/output'\n",
    "\n",
    "# Ensure output directory exists\n",
    "if not os.path.exists(output_dir):\n",
    "    os.makedirs(output_dir)\n",
    "\n",
    "# Process each image in the directory\n",
    "for img_name in os.listdir(input_image_dir):\n",
    "    if img_name.endswith('.jpg') or img_name.endswith('.jpeg'):\n",
    "        draw_boxes_and_labels(img_name, input_image_dir, output_dir)"
   ]
  }
 ],
 "metadata": {
  "kernelspec": {
   "display_name": "Python 3",
   "language": "python",
   "name": "python3"
  },
  "language_info": {
   "codemirror_mode": {
    "name": "ipython",
    "version": 3
   },
   "file_extension": ".py",
   "mimetype": "text/x-python",
   "name": "python",
   "nbconvert_exporter": "python",
   "pygments_lexer": "ipython3",
   "version": "3.9.18"
  }
 },
 "nbformat": 4,
 "nbformat_minor": 2
}
