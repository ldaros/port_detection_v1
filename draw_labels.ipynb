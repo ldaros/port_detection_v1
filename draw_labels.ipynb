{
 "cells": [
  {
   "cell_type": "code",
   "execution_count": 3,
   "metadata": {},
   "outputs": [],
   "source": [
    "import pandas as pd\n",
    "import os\n",
    "import json\n",
    "import cv2"
   ]
  },
  {
   "cell_type": "code",
   "execution_count": 4,
   "metadata": {},
   "outputs": [],
   "source": [
    "LABELS = ['AUDIO', 'AUDIO_INPUT', 'AUDIO_OUTPUT', 'DISPLAYPORT', 'DVI', 'ETHERNET', 'HDMI', 'PARALLEL', 'POWER', 'PS', 'PS2', 'USB', 'USBC', 'VGA']\n",
    "\n",
    "# Load data\n",
    "df = pd.read_csv('./content/labeled_data.csv')"
   ]
  },
  {
   "cell_type": "code",
   "execution_count": 5,
   "metadata": {},
   "outputs": [],
   "source": [
    "# Fix img paths\n",
    "def fix_path(img_path):\n",
    "    base_name = os.path.basename(img_path)\n",
    "    return base_name.split('-')[-1]\n",
    "\n",
    "df['image'] = df['image'].apply(fix_path)"
   ]
  },
  {
   "cell_type": "code",
   "execution_count": 8,
   "metadata": {},
   "outputs": [
    {
     "data": {
      "text/plain": [
       "0     None\n",
       "1     None\n",
       "2     None\n",
       "3     None\n",
       "4     None\n",
       "5     None\n",
       "6     None\n",
       "7     None\n",
       "8     None\n",
       "9     None\n",
       "10    None\n",
       "11    None\n",
       "12    None\n",
       "13    None\n",
       "14    None\n",
       "15    None\n",
       "16    None\n",
       "17    None\n",
       "18    None\n",
       "19    None\n",
       "20    None\n",
       "21    None\n",
       "22    None\n",
       "23    None\n",
       "24    None\n",
       "25    None\n",
       "26    None\n",
       "27    None\n",
       "28    None\n",
       "29    None\n",
       "30    None\n",
       "31    None\n",
       "32    None\n",
       "33    None\n",
       "34    None\n",
       "35    None\n",
       "36    None\n",
       "37    None\n",
       "38    None\n",
       "39    None\n",
       "40    None\n",
       "41    None\n",
       "42    None\n",
       "43    None\n",
       "44    None\n",
       "45    None\n",
       "46    None\n",
       "47    None\n",
       "48    None\n",
       "49    None\n",
       "50    None\n",
       "51    None\n",
       "52    None\n",
       "53    None\n",
       "54    None\n",
       "dtype: object"
      ]
     },
     "execution_count": 8,
     "metadata": {},
     "output_type": "execute_result"
    }
   ],
   "source": [
    "\n",
    "# Function to draw bounding boxes and labels on image\n",
    "def draw_boxes_and_labels(row, input_path, output_path):\n",
    "    # Load the image\n",
    "    img = cv2.imread(os.path.join(input_path, row['image']))\n",
    "\n",
    "    labels = json.loads(row['label'])\n",
    "    \n",
    "    # Iterate over each bounding box and label\n",
    "    for label in labels:\n",
    "        # Calculate actual dimensions from percentages\n",
    "        x_top = int(label['x'] / 100.0 * 800)\n",
    "        y_top = int(label['y'] / 100.0 * 800)\n",
    "\n",
    "        width = int(label['width'] / 100.0 * 800)\n",
    "        height = int(label['height'] / 100.0 * 800)\n",
    "\n",
    "        x1 = x_top\n",
    "        y1 = y_top\n",
    "        x2 = x_top + width\n",
    "        y2 = y_top + height\n",
    "        \n",
    "        # Draw the bounding box\n",
    "        cv2.rectangle(img, (x1, y1), (x2, y2), (0, 255, 0), 2)  # Green color for bounding box\n",
    "\n",
    "        # Draw the label text\n",
    "        label_name = label['rectanglelabels'][0]\n",
    "        cv2.putText(img, label_name, (x1, y1-10), cv2.FONT_HERSHEY_SIMPLEX, 0.5, (255, 0, 0), 2)  # Blue color for text\n",
    "    \n",
    "    # Save the processed image\n",
    "    cv2.imwrite(os.path.join(output_path, row['image']), img)\n",
    "\n",
    "# Define your input and output directories\n",
    "input_image_dir = './content/img_crop' \n",
    "output_dir = './content/output'\n",
    "\n",
    "# Ensure output directory exists\n",
    "if not os.path.exists(output_dir):\n",
    "    os.makedirs(output_dir)\n",
    "\n",
    "# Process each image in the DataFrame\n",
    "df.apply(lambda row: draw_boxes_and_labels(row, input_image_dir, output_dir), axis=1)"
   ]
  }
 ],
 "metadata": {
  "kernelspec": {
   "display_name": "Python 3",
   "language": "python",
   "name": "python3"
  },
  "language_info": {
   "codemirror_mode": {
    "name": "ipython",
    "version": 3
   },
   "file_extension": ".py",
   "mimetype": "text/x-python",
   "name": "python",
   "nbconvert_exporter": "python",
   "pygments_lexer": "ipython3",
   "version": "3.10.8"
  }
 },
 "nbformat": 4,
 "nbformat_minor": 2
}
