{
 "cells": [
  {
   "cell_type": "code",
   "execution_count": 1,
   "metadata": {},
   "outputs": [
    {
     "ename": "ModuleNotFoundError",
     "evalue": "No module named 'tensorflow'",
     "output_type": "error",
     "traceback": [
      "\u001b[1;31m---------------------------------------------------------------------------\u001b[0m",
      "\u001b[1;31mModuleNotFoundError\u001b[0m                       Traceback (most recent call last)",
      "\u001b[1;32mc:\\port_detection\\train_model.ipynb Cell 1\u001b[0m line \u001b[0;36m1\n\u001b[1;32m----> <a href='vscode-notebook-cell:/c%3A/port_detection/train_model.ipynb#W0sZmlsZQ%3D%3D?line=0'>1</a>\u001b[0m \u001b[39mimport\u001b[39;00m \u001b[39mtensorflow\u001b[39;00m \u001b[39mas\u001b[39;00m \u001b[39mtf\u001b[39;00m\n\u001b[0;32m      <a href='vscode-notebook-cell:/c%3A/port_detection/train_model.ipynb#W0sZmlsZQ%3D%3D?line=1'>2</a>\u001b[0m \u001b[39mimport\u001b[39;00m \u001b[39mpandas\u001b[39;00m \u001b[39mas\u001b[39;00m \u001b[39mpd\u001b[39;00m\n\u001b[0;32m      <a href='vscode-notebook-cell:/c%3A/port_detection/train_model.ipynb#W0sZmlsZQ%3D%3D?line=2'>3</a>\u001b[0m \u001b[39mimport\u001b[39;00m \u001b[39mos\u001b[39;00m\n",
      "\u001b[1;31mModuleNotFoundError\u001b[0m: No module named 'tensorflow'"
     ]
    }
   ],
   "source": [
    "import tensorflow as tf\n",
    "import pandas as pd\n",
    "import os\n",
    "import json\n",
    "import numpy as np"
   ]
  },
  {
   "cell_type": "code",
   "execution_count": null,
   "metadata": {},
   "outputs": [],
   "source": [
    "# Port interface dataset\n",
    "# \n",
    "# This dataset was created using the Labelbox tool\n",
    "# It contains about 60 images in JPEG Format with 800x800 resolution\n",
    "#\n",
    "# The dataset is stored in a CSV file with the following columns:\n",
    "# \"annotation_id\",\"annotator\",\"created_at\",\"id\",\"image\",\"label\",\"lead_time\",\"updated_at\"\n",
    "#\n",
    "# The \"label\" column contains the bounding box coordinates in JSON format\n",
    "# [{'x': 79.58387516254876, 'y': 38.621586475942784, 'width': 20.0260078023407, 'height': 23.5370611183355, 'rotation': 0, 'rectanglelabels': ['PS2'], 'original_width': 800, 'original_height': 800}]\n",
    "#\n",
    "# X and Y are the coordinates of the top left corner of the bounding box.\n",
    "# Coordinates are stored as percentages of image dimensions\n",
    "# Each image can have multiple bounding boxes\n",
    "\n",
    "# Available labels:\n",
    "LABELS = ['AUDIO', 'AUDIO_INPUT', 'AUDIO_OUTPUT', 'DISPLAYPORT', 'DVI', 'ETHERNET', 'HDMI', 'PARALLEL', 'POWER', 'PS', 'PS2', 'USB', 'USBC', 'VGA']\n",
    "\n",
    "# Paths\n",
    "img_path = './content/img_crop/'\n",
    "dataset_path = './content/labeled_data.csv'\n",
    "\n",
    "# Load the dataset\n",
    "df = pd.read_csv(dataset_path)\n",
    "\n",
    "# Fix img paths to match the actual image names\n",
    "def fix_path(img_path):\n",
    "    base_name = os.path.basename(img_path)\n",
    "    return base_name.split('-')[-1]\n",
    "\n",
    "df['image'] = df['image'].apply(fix_path)"
   ]
  }
 ],
 "metadata": {
  "kernelspec": {
   "display_name": "Python 3",
   "language": "python",
   "name": "python3"
  },
  "language_info": {
   "codemirror_mode": {
    "name": "ipython",
    "version": 3
   },
   "file_extension": ".py",
   "mimetype": "text/x-python",
   "name": "python",
   "nbconvert_exporter": "python",
   "pygments_lexer": "ipython3",
   "version": "3.10.8"
  },
  "orig_nbformat": 4
 },
 "nbformat": 4,
 "nbformat_minor": 2
}
